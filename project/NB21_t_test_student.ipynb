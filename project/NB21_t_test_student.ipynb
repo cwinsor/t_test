{
 "cells": [
  {
   "cell_type": "markdown",
   "metadata": {},
   "source": [
    "# play with T-Test\n",
    "reference at:  https://machinelearningmastery.com/statistical-hypothesis-tests-in-python-cheat-sheet/"
   ]
  },
  {
   "cell_type": "code",
   "execution_count": 5,
   "metadata": {},
   "outputs": [],
   "source": [
    "import numpy as np\n",
    "import pandas as pd\n",
    "from scipy import stats\n",
    "import statsmodels.stats.weightstats as ws"
   ]
  },
  {
   "cell_type": "code",
   "execution_count": 6,
   "metadata": {},
   "outputs": [],
   "source": [
    "import matplotlib.pyplot as plt\n",
    "import seaborn as sns\n",
    "import warnings\n",
    "from pylab import rcParams\n",
    "\n",
    "%matplotlib inline\n",
    "np.random.seed(8)\n",
    "warnings.filterwarnings(\"ignore\")\n",
    "rcParams['figure.figsize'] = 10,5\n",
    "rcParams['font.size'] = 15\n",
    "sns.set()"
   ]
  },
  {
   "cell_type": "markdown",
   "metadata": {},
   "source": [
    "# We will practice with:\n",
    "* Student's T-test (**scipy.stats.ttest_ind**)\n",
    "* Paired Student's T-Test (**scipy.stats.ttest_rel**)\n"
   ]
  },
  {
   "cell_type": "markdown",
   "metadata": {},
   "source": [
    "## Student's T-test (scipy.stats.ttest_ind)"
   ]
  },
  {
   "cell_type": "code",
   "execution_count": 49,
   "metadata": {},
   "outputs": [],
   "source": [
    "# ttest_ind\n",
    "#\n",
    "# from reference: https://docs.scipy.org/doc/scipy/reference/generated/scipy.stats.ttest_ind.html:\n",
    "#\n",
    "# Calculate the T-test for the means of two independent samples of scores.\n",
    "# This is a two-sided test for the null hypothesis that 2 independent samples\n",
    "# have identical average (expected) values. This test assumes that the populations\n",
    "# have identical variances by default.\n",
    "\n",
    "# Notes\n",
    "# We can use this test, if we observe two independent samples from the same or\n",
    "# different population, e.g. exam scores of boys and girls or of two ethnic groups.\n",
    "# The test measures whether the average (expected) value differs significantly\n",
    "# across samples.\n",
    "# If we observe a large p-value, for example larger than 0.05 or 0.1,\n",
    "# then we cannot reject the null hypothesis of identical average scores.\n",
    "# If the p-value is smaller than the threshold, e.g. 1%, 5% or 10%,\n",
    "# then we reject the null hypothesis of equal averages."
   ]
  },
  {
   "cell_type": "code",
   "execution_count": 50,
   "metadata": {},
   "outputs": [],
   "source": [
    "# In other words \n",
    "# ttest_ind is attempting to show that b is different than a.\n",
    "# It does this by hypothesizing they are the same and showing\n",
    "# there is absolutely no evidence of this.\n",
    "\n",
    "# in more detail...\n",
    "# we have two distributions and we want to exclude any possibility of them being the same\n",
    "# So we test for sameness (the null hypothesis) and\n",
    "# if there is ANY evidence to support the null hypothesis then we cannot reject it.\n",
    "# if there is absolutely no evidence to support the null hypothesis then we CAN reject it.\n",
    "# Rejecting the null hypothesis says there is absolutely no evidence to support that the distributions are the same.\n",
    "# in other words:\n",
    "# p>0.05 means cannot reject hypothesis - they are possibly the same\n",
    "# p<0.05 means CAN reject the hypothesis - there is absolutely no evidence to suggest they are the same"
   ]
  },
  {
   "cell_type": "code",
   "execution_count": 474,
   "metadata": {},
   "outputs": [],
   "source": [
    "def run_ttest_ind(d1,d2):\n",
    "    stat, p = stats.ttest_ind(a=d1, b=d2, equal_var=False, nan_policy='omit')\n",
    "    if p > 0.05:\n",
    "        msg = 'Probably the same distribution'\n",
    "    else:\n",
    "        msg = 'Probably different distributions'\n",
    "    print('stat=%.3f, p=%.3f --> %s' % (stat, p, msg))"
   ]
  },
  {
   "cell_type": "markdown",
   "metadata": {},
   "source": [
    "### We first investigate the effect of sample size - starting with 128 and decreasing to 2\n",
    "here the mean is 0.5 and standard deviation is 2"
   ]
  },
  {
   "cell_type": "code",
   "execution_count": 475,
   "metadata": {},
   "outputs": [
    {
     "name": "stdout",
     "output_type": "stream",
     "text": [
      "stat=-1.495, p=0.136 --> Probably the same distribution\n"
     ]
    }
   ],
   "source": [
    "data1 = np.random.normal(0.5, 2, 128)\n",
    "data2 = np.random.normal(0.5, 2, 128)\n",
    "run_ttest_ind(data1, data2)"
   ]
  },
  {
   "cell_type": "code",
   "execution_count": 476,
   "metadata": {},
   "outputs": [
    {
     "name": "stdout",
     "output_type": "stream",
     "text": [
      "stat=1.118, p=0.266 --> Probably the same distribution\n"
     ]
    }
   ],
   "source": [
    "data1 = np.random.normal(0.5, 2, 64)\n",
    "data2 = np.random.normal(0.5, 2, 64)\n",
    "run_ttest_ind(data1, data2)"
   ]
  },
  {
   "cell_type": "code",
   "execution_count": 54,
   "metadata": {},
   "outputs": [
    {
     "name": "stdout",
     "output_type": "stream",
     "text": [
      "stat=-0.810, p=0.421 --> Probably the same distribution\n"
     ]
    }
   ],
   "source": [
    "data1 = np.random.normal(0.5, 2, 32)\n",
    "data2 = np.random.normal(0.5, 2, 32)\n",
    "run_ttest_ind(data1, data2)"
   ]
  },
  {
   "cell_type": "code",
   "execution_count": 55,
   "metadata": {},
   "outputs": [
    {
     "name": "stdout",
     "output_type": "stream",
     "text": [
      "stat=-0.658, p=0.516 --> Probably the same distribution\n"
     ]
    }
   ],
   "source": [
    "data1 = np.random.normal(0.5, 2, 16)\n",
    "data2 = np.random.normal(0.5, 2, 16)\n",
    "stat, p = stats.ttest_ind(data1, data2)\n",
    "run_ttest_ind(data1, data2)"
   ]
  },
  {
   "cell_type": "code",
   "execution_count": 56,
   "metadata": {},
   "outputs": [
    {
     "name": "stdout",
     "output_type": "stream",
     "text": [
      "stat=0.960, p=0.354 --> Probably the same distribution\n"
     ]
    }
   ],
   "source": [
    "data1 = np.random.normal(0.5, 2, 8)\n",
    "data2 = np.random.normal(0.5, 2, 8)\n",
    "run_ttest_ind(data1, data2)"
   ]
  },
  {
   "cell_type": "code",
   "execution_count": 57,
   "metadata": {},
   "outputs": [
    {
     "name": "stdout",
     "output_type": "stream",
     "text": [
      "stat=1.402, p=0.246 --> Probably the same distribution\n"
     ]
    }
   ],
   "source": [
    "data1 = np.random.normal(0.5, 2, 4)\n",
    "data2 = np.random.normal(0.5, 2, 4)\n",
    "run_ttest_ind(data1, data2)"
   ]
  },
  {
   "cell_type": "code",
   "execution_count": 58,
   "metadata": {},
   "outputs": [
    {
     "name": "stdout",
     "output_type": "stream",
     "text": [
      "stat=0.455, p=0.724 --> Probably the same distribution\n",
      "<class 'numpy.ndarray'>\n"
     ]
    }
   ],
   "source": [
    "data1 = np.random.normal(0.5, 2, 2)\n",
    "data2 = np.random.normal(0.5, 2, 2)\n",
    "run_ttest_ind(data1, data2)\n",
    "print(type(data1))"
   ]
  },
  {
   "cell_type": "markdown",
   "metadata": {},
   "source": [
    "# in summary:\n",
    "if the distributions really do come from the same process then sample size plays almost no part in the results."
   ]
  },
  {
   "cell_type": "markdown",
   "metadata": {},
   "source": [
    "### a quick aside - take a look at one of the examples"
   ]
  },
  {
   "cell_type": "code",
   "execution_count": 63,
   "metadata": {},
   "outputs": [
    {
     "data": {
      "text/plain": [
       "<matplotlib.lines.Line2D at 0x20faf66cba8>"
      ]
     },
     "execution_count": 63,
     "metadata": {},
     "output_type": "execute_result"
    },
    {
     "data": {
      "image/png": "[encoded data removed]",
      "text/plain": [
       "<Figure size 720x360 with 1 Axes>"
      ]
     },
     "metadata": {},
     "output_type": "display_data"
    }
   ],
   "source": [
    "data1 = np.random.normal(0.5, 2, 20)\n",
    "data2 = np.random.normal(0.5, 2, 20)\n",
    "data12 = np.transpose(np.vstack((data1,data2)))\n",
    "df = pd.DataFrame(\n",
    "    columns=('data1', 'data2'),\n",
    "    data=data12)\n",
    "\n",
    "plt.figure()\n",
    "ax1 = sns.distplot(df['data1'], color='b', kde=True, norm_hist=True)\n",
    "ax2 = sns.distplot(df['data2'], color='r', kde=True, norm_hist=True)\n",
    "plt.axvline(np.mean(df['data1']), color='b', linestyle='dashed', linewidth=5)\n",
    "plt.axvline(np.mean(df['data2']),  color='r', linestyle='dashed', linewidth=5)"
   ]
  },
  {
   "cell_type": "markdown",
   "metadata": {},
   "source": [
    "# Now investigate standard deviation\n",
    "and its affect on results of ttest_ind"
   ]
  },
  {
   "cell_type": "code",
   "execution_count": 73,
   "metadata": {},
   "outputs": [
    {
     "name": "stdout",
     "output_type": "stream",
     "text": [
      "stat=0.866, p=0.393 --> Probably the same distribution\n"
     ]
    }
   ],
   "source": [
    "data1 = np.random.normal(0.5, 2, 16)\n",
    "data2 = np.random.normal(0.5, 2, 16)\n",
    "run_ttest_ind(data1, data2)"
   ]
  },
  {
   "cell_type": "code",
   "execution_count": 74,
   "metadata": {},
   "outputs": [
    {
     "data": {
      "text/plain": [
       "<matplotlib.lines.Line2D at 0x20faf860588>"
      ]
     },
     "execution_count": 74,
     "metadata": {},
     "output_type": "execute_result"
    },
    {
     "data": {
      "image/png": "[encoded data removed]",
      "text/plain": [
       "<Figure size 720x360 with 1 Axes>"
      ]
     },
     "metadata": {},
     "output_type": "display_data"
    }
   ],
   "source": [
    "data12 = np.transpose(np.vstack((data1,data2)))\n",
    "df = pd.DataFrame(\n",
    "    columns=('data1', 'data2'),\n",
    "    data=data12)\n",
    "\n",
    "plt.figure()\n",
    "ax1 = sns.distplot(df['data1'], color='b', kde=True, norm_hist=True)\n",
    "ax2 = sns.distplot(df['data2'], color='r', kde=True, norm_hist=True)\n",
    "plt.axvline(np.mean(df['data1']), color='b', linestyle='dashed', linewidth=5)\n",
    "plt.axvline(np.mean(df['data2']),  color='r', linestyle='dashed', linewidth=5)"
   ]
  },
  {
   "cell_type": "code",
   "execution_count": 99,
   "metadata": {},
   "outputs": [
    {
     "name": "stdout",
     "output_type": "stream",
     "text": [
      "stat=-0.687, p=0.498 --> Probably the same distribution\n"
     ]
    }
   ],
   "source": [
    "data1 = np.random.normal(0.5, 4, 16)\n",
    "data2 = np.random.normal(0.5, 4, 16)\n",
    "run_ttest_ind(data1, data2)"
   ]
  },
  {
   "cell_type": "code",
   "execution_count": 112,
   "metadata": {},
   "outputs": [
    {
     "name": "stdout",
     "output_type": "stream",
     "text": [
      "stat=-1.674, p=0.105 --> Probably the same distribution\n"
     ]
    }
   ],
   "source": [
    "data1 = np.random.normal(0.5, 8, 16)\n",
    "data2 = np.random.normal(0.5, 8, 16)\n",
    "run_ttest_ind(data1, data2)"
   ]
  },
  {
   "cell_type": "code",
   "execution_count": 138,
   "metadata": {},
   "outputs": [
    {
     "name": "stdout",
     "output_type": "stream",
     "text": [
      "stat=0.434, p=0.668 --> Probably the same distribution\n"
     ]
    }
   ],
   "source": [
    "data1 = np.random.normal(0.5, 16, 16)\n",
    "data2 = np.random.normal(0.5, 16, 16)\n",
    "run_ttest_ind(data1, data2)"
   ]
  },
  {
   "cell_type": "code",
   "execution_count": 139,
   "metadata": {},
   "outputs": [
    {
     "name": "stdout",
     "output_type": "stream",
     "text": [
      "stat=0.418, p=0.679 --> Probably the same distribution\n"
     ]
    }
   ],
   "source": [
    "data1 = np.random.normal(0.5, 64, 16)\n",
    "data2 = np.random.normal(0.5, 64, 16)\n",
    "run_ttest_ind(data1, data2)"
   ]
  },
  {
   "cell_type": "code",
   "execution_count": 140,
   "metadata": {},
   "outputs": [
    {
     "data": {
      "text/plain": [
       "<matplotlib.lines.Line2D at 0x20fafceacc0>"
      ]
     },
     "execution_count": 140,
     "metadata": {},
     "output_type": "execute_result"
    },
    {
     "data": {
      "image/png": "[encoded data removed]",
      "text/plain": [
       "<Figure size 720x360 with 1 Axes>"
      ]
     },
     "metadata": {},
     "output_type": "display_data"
    }
   ],
   "source": [
    "data12 = np.transpose(np.vstack((data1,data2)))\n",
    "df = pd.DataFrame(\n",
    "    columns=('data1', 'data2'),\n",
    "    data=data12)\n",
    "\n",
    "plt.figure()\n",
    "ax1 = sns.distplot(df['data1'], color='b', kde=True, norm_hist=True)\n",
    "ax2 = sns.distplot(df['data2'], color='r', kde=True, norm_hist=True)\n",
    "plt.axvline(np.mean(df['data1']), color='b', linestyle='dashed', linewidth=5)\n",
    "plt.axvline(np.mean(df['data2']),  color='r', linestyle='dashed', linewidth=5)"
   ]
  },
  {
   "cell_type": "markdown",
   "metadata": {},
   "source": [
    "# in summary:\n",
    "if the distributions really do come from the same process then with a sample size of 16 standard deviation does not affect the results"
   ]
  },
  {
   "cell_type": "markdown",
   "metadata": {},
   "source": [
    "# Now investigate mean\n",
    "# in fact - the above tests are not really valid as\n",
    "they give distributions that we know are from the same source.\n",
    "\n",
    "What ttest_ind is intends to test is that they are NOT from the same source,\n",
    "so the only time the tests are conclusive is when the result is\n",
    "\"probably from different distributions\".\n",
    "\n",
    "We now go after that case\n"
   ]
  },
  {
   "cell_type": "markdown",
   "metadata": {},
   "source": [
    "### starting with n=8"
   ]
  },
  {
   "cell_type": "code",
   "execution_count": 271,
   "metadata": {},
   "outputs": [
    {
     "name": "stdout",
     "output_type": "stream",
     "text": [
      "stat=-0.766, p=0.459 --> Probably the same distribution\n"
     ]
    }
   ],
   "source": [
    "data1 = np.random.normal(0.5, 2, 8)\n",
    "data2 = np.random.normal(0.6, 2, 8)\n",
    "run_ttest_ind(data1, data2)"
   ]
  },
  {
   "cell_type": "markdown",
   "metadata": {},
   "source": [
    "above shows that with a difference in mean = 0.1, standard deviation = 2, sample size = 8 is not sufficient to show difference"
   ]
  },
  {
   "cell_type": "code",
   "execution_count": 286,
   "metadata": {},
   "outputs": [
    {
     "name": "stdout",
     "output_type": "stream",
     "text": [
      "stat=-0.735, p=0.463 --> Probably the same distribution\n"
     ]
    }
   ],
   "source": [
    "data1 = np.random.normal(0.5, 2, 128)\n",
    "data2 = np.random.normal(0.6, 2, 128)\n",
    "run_ttest_ind(data1, data2)"
   ]
  },
  {
   "cell_type": "markdown",
   "metadata": {},
   "source": [
    "above shows that with a difference in mean = 0.1, standard deviation = 2, even a much larger sample size = 128 does not show difference\n",
    "\n",
    "the problem is the large standard deviation relative to the difference in mean  (2.0 vs 0.1)"
   ]
  },
  {
   "cell_type": "markdown",
   "metadata": {},
   "source": [
    "let's try with a reduced standard deviation, starting with sample size 8"
   ]
  },
  {
   "cell_type": "code",
   "execution_count": 332,
   "metadata": {},
   "outputs": [
    {
     "name": "stdout",
     "output_type": "stream",
     "text": [
      "stat=-1.674, p=0.117 --> Probably the same distribution\n"
     ]
    }
   ],
   "source": [
    "data1 = np.random.normal(0.5, .2, 8)\n",
    "data2 = np.random.normal(0.6, .2, 8)\n",
    "run_ttest_ind(data1, data2)"
   ]
  },
  {
   "cell_type": "code",
   "execution_count": 333,
   "metadata": {},
   "outputs": [
    {
     "name": "stdout",
     "output_type": "stream",
     "text": [
      "stat=-2.557, p=0.013 --> Probably different distributions\n"
     ]
    }
   ],
   "source": [
    "data1 = np.random.normal(0.5, .2, 30)\n",
    "data2 = np.random.normal(0.6, .2, 30)\n",
    "run_ttest_ind(data1, data2)"
   ]
  },
  {
   "cell_type": "code",
   "execution_count": 334,
   "metadata": {},
   "outputs": [
    {
     "name": "stdout",
     "output_type": "stream",
     "text": [
      "stat=-4.196, p=0.000 --> Probably different distributions\n"
     ]
    }
   ],
   "source": [
    "data1 = np.random.normal(0.5, .2, 128)\n",
    "data2 = np.random.normal(0.6, .2, 128)\n",
    "run_ttest_ind(data1, data2)"
   ]
  },
  {
   "cell_type": "markdown",
   "metadata": {},
   "source": [
    "### so with the reduced standard deviation, increasing sample size really reduces the p-value\n",
    "### in summary - if you want to prove one distribution is DIFFERENT from the other (ttest_ind) then you need a standard deviation that is on the order of the difference in means. "
   ]
  },
  {
   "cell_type": "markdown",
   "metadata": {},
   "source": [
    "# run some more tests with standard deviation = .1 and difference in means = .1"
   ]
  },
  {
   "cell_type": "code",
   "execution_count": 416,
   "metadata": {},
   "outputs": [
    {
     "name": "stdout",
     "output_type": "stream",
     "text": [
      "stat=-1.782, p=0.098 --> Probably the same distribution\n"
     ]
    }
   ],
   "source": [
    "data1 = np.random.normal(0.5, .1, 8)\n",
    "data2 = np.random.normal(0.6, .1, 8)\n",
    "run_ttest_ind(data1, data2)"
   ]
  },
  {
   "cell_type": "code",
   "execution_count": 428,
   "metadata": {},
   "outputs": [
    {
     "name": "stdout",
     "output_type": "stream",
     "text": [
      "stat=-2.598, p=0.015 --> Probably different distributions\n"
     ]
    }
   ],
   "source": [
    "data1 = np.random.normal(0.5, .1, 16)\n",
    "data2 = np.random.normal(0.6, .1, 16)\n",
    "run_ttest_ind(data1, data2)"
   ]
  },
  {
   "cell_type": "code",
   "execution_count": 442,
   "metadata": {},
   "outputs": [
    {
     "name": "stdout",
     "output_type": "stream",
     "text": [
      "stat=-4.411, p=0.000 --> Probably different distributions\n"
     ]
    }
   ],
   "source": [
    "data1 = np.random.normal(0.5, .1, 32)\n",
    "data2 = np.random.normal(0.6, .1, 32)\n",
    "run_ttest_ind(data1, data2)"
   ]
  },
  {
   "cell_type": "markdown",
   "metadata": {},
   "source": [
    "### so in summary, with standard deviation = difference in mean, and sample size 32 will show significance\n",
    "note we are using p=0.05 (95% confidence) in above testing."
   ]
  }
 ],
 "metadata": {
  "kernelspec": {
   "display_name": "Python 3",
   "language": "python",
   "name": "python3"
  },
  "language_info": {
   "codemirror_mode": {
    "name": "ipython",
    "version": 3
   },
   "file_extension": ".py",
   "mimetype": "text/x-python",
   "name": "python",
   "nbconvert_exporter": "python",
   "pygments_lexer": "ipython3",
   "version": "3.6.8"
  }
 },
 "nbformat": 4,
 "nbformat_minor": 2
}
