{
 "cells": [
  {
   "cell_type": "markdown",
   "metadata": {},
   "source": [
    "# T-Test for Equivalence"
   ]
  },
  {
   "cell_type": "code",
   "execution_count": 1,
   "metadata": {},
   "outputs": [],
   "source": [
    "import numpy as np\n",
    "import statsmodels.stats.weightstats as ws"
   ]
  },
  {
   "cell_type": "code",
   "execution_count": 2,
   "metadata": {},
   "outputs": [],
   "source": [
    "import matplotlib.pyplot as plt\n",
    "import seaborn as sns\n",
    "import warnings\n",
    "from pylab import rcParams\n",
    "\n",
    "%matplotlib inline\n",
    "np.random.seed(8)\n",
    "warnings.filterwarnings(\"ignore\")\n",
    "rcParams['figure.figsize'] = 10,5\n",
    "rcParams['font.size'] = 15\n",
    "sns.set()"
   ]
  },
  {
   "cell_type": "markdown",
   "metadata": {},
   "source": [
    "# T-test for Equivalence (statsmodels.stats.weightstats.ttost_ind)"
   ]
  },
  {
   "cell_type": "markdown",
   "metadata": {},
   "source": [
    "**Reference:**\n",
    "\n",
    "https://www.statsmodels.org/stable/generated/statsmodels.stats.weightstats.ttost_ind.html\n",
    "\n",
    "statsmodels.stats.weightstats.ttost_ind(x1, x2, low, upp, usevar='pooled', weights=(None, None), transform=None)\n",
    "\n",
    "test of (non-)equivalence for two independent samples\n",
    "\n",
    "TOST: two one-sided t tests\n",
    "\n",
    "null hypothesis: m1 - m2 < low or m1 - m2 > upp alternative hypothesis: low < m1 - m2 < upp \n",
    "\n",
    "where m1, m2 are the means, expected values of the two samples.\n",
    "\n",
    "If the pvalue is smaller than a threshold, say 0.05, then we reject the hypothesis that the difference between the two samples is larger than the the thresholds given by low and upp."
   ]
  },
  {
   "cell_type": "markdown",
   "metadata": {},
   "source": [
    "**An operational reference that we follow for implementation details is:**\n",
    "\n",
    "https://www.tandfonline.com/doi/pdf/10.1080/10543400701329422\n",
    "\n",
    "Bland-Altman: AGREEMENT BETWEEN METHODS OF MEASUREMENT WITH MULTIPLE OBSERVATIONS PER INDIVIDUAL\n",
    "\n",
    "**Also - NCSS Statistical Software has very good documentation on the subject:**\n",
    "\n",
    "https://ncss-wpengine.netdna-ssl.com/wp-content/themes/ncss/pdf/Procedures/NCSS/Paired_T-Test_for_Equivalence.pdf"
   ]
  },
  {
   "cell_type": "markdown",
   "metadata": {},
   "source": [
    "## Choosing equivalence bounds (limits of agreement)...\n",
    "Bland-Altman says:\n",
    "\n",
    "> We obtain the differences between measurements by the two methods for each\n",
    "individual and calculate the mean and standard deviation. We then estimate the\n",
    "95% limits of agreement as the two values mean minus 1.96 standard deviations\n",
    "and mean plus 1.96 standard deviations. These limits are expected to contain the\n",
    "difference between measurements by the two methods for 95% of pairs of future\n",
    "measurements on similar individuals."
   ]
  },
  {
   "cell_type": "code",
   "execution_count": 3,
   "metadata": {},
   "outputs": [],
   "source": [
    "def run_ttost_ind(ctrl,test):\n",
    "    # we use lower/upper bounds as control_mean +/- 1.96 control_std_dev\n",
    "    mean = np.mean(ctrl)\n",
    "    std = np.std(ctrl)\n",
    "    lower = -1.96 * std\n",
    "    upper = +1.96 * std\n",
    "    print(mean, std, lower, upper)\n",
    "    p, t1, t2 = ws.ttost_ind(x1=ctrl, x2=test, low=lower, upp=upper, usevar='unequal')\n",
    "    if p < 0.05:\n",
    "        msg = '---> Reject null hypothesis: m1 - m2 < low or m1 - m2 > upp. Accept alternative hypothesis: low < m1 - m2 < upp'\n",
    "    else:\n",
    "        msg = '---> No conclusion (cannot reject)'\n",
    "    print('p=%.3f %s' % (p, msg))"
   ]
  },
  {
   "cell_type": "code",
   "execution_count": 4,
   "metadata": {},
   "outputs": [
    {
     "name": "stdout",
     "output_type": "stream",
     "text": [
      "100.05107113229441 1.987977472908876 -3.896435846901397 3.896435846901397\n",
      "p=0.000 Reject null hypothesis: m1 - m2 < low or m1 - m2 > upp. Accept alternative hypothesis: low < m1 - m2 < upp\n"
     ]
    },
    {
     "data": {
      "text/plain": [
       "<matplotlib.lines.Line2D at 0x19b09a26cc0>"
      ]
     },
     "execution_count": 4,
     "metadata": {},
     "output_type": "execute_result"
    },
    {
     "data": {
      "image/png": "[encoded data removed]",
      "text/plain": [
       "<Figure size 432x288 with 1 Axes>"
      ]
     },
     "metadata": {
      "needs_background": "light"
     },
     "output_type": "display_data"
    }
   ],
   "source": [
    "ctrl_std_dev = 2.0\n",
    "\n",
    "ctrl = np.random.normal(100.0, ctrl_std_dev, 3000)\n",
    "test = np.random.normal(103.0, ctrl_std_dev, 30)\n",
    "run_ttost_ind(ctrl, test)\n",
    "\n",
    "plt.figure()\n",
    "ax1 = sns.distplot(color='b', bins=10, kde=True, norm_hist=True, a=ctrl)\n",
    "ax2 = sns.distplot(color='r', bins=10, kde=True, norm_hist=True, a=test)\n",
    "plt.axvline(color='b', linestyle='dashed', linewidth=5, x=np.mean(ctrl))\n",
    "plt.axvline(color='r', linestyle='dashed', linewidth=5, x=np.mean(test))"
   ]
  },
  {
   "cell_type": "markdown",
   "metadata": {},
   "source": [
    "#### Some example results\n",
    "The difference in mean between Control and Test is varied to determine where the test indicates \"reject\".\n",
    "We explore two different values of \"n\" and two different standard deviations.\n",
    "\n",
    "\n",
    "| std dev | n    | no conclusion | reject | reject | no conclusion |\n",
    "| ---     | ---  |  ---:         | :---   | ---:   | :---          |\n",
    "| 1.0     |\n",
    "|         | 3000 | -2.0 | -1.9 | 1.9 | 2.0 |\n",
    "|         | 30   | -1.9 | -1.8 | 1.8 | 1.9 |\n",
    "| 2.0     |\n",
    "|         | 3000 | -3.9 | -3.0 | 3.7 | 3.9 |\n",
    "|         | 30   | -3.6 | -3.0 | 3.0 | 3.6 |\n"
   ]
  },
  {
   "cell_type": "code",
   "execution_count": null,
   "metadata": {},
   "outputs": [],
   "source": []
  }
 ],
 "metadata": {
  "kernelspec": {
   "display_name": "Python 3",
   "language": "python",
   "name": "python3"
  },
  "language_info": {
   "codemirror_mode": {
    "name": "ipython",
    "version": 3
   },
   "file_extension": ".py",
   "mimetype": "text/x-python",
   "name": "python",
   "nbconvert_exporter": "python",
   "pygments_lexer": "ipython3",
   "version": "3.6.8"
  }
 },
 "nbformat": 4,
 "nbformat_minor": 2
}
