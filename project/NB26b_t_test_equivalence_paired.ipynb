{
 "cells": [
  {
   "cell_type": "markdown",
   "metadata": {},
   "source": [
    "# Paired T-Test for Equivalence"
   ]
  },
  {
   "cell_type": "code",
   "execution_count": 1,
   "metadata": {},
   "outputs": [],
   "source": [
    "import numpy as np\n",
    "import statsmodels.stats.weightstats as ws"
   ]
  },
  {
   "cell_type": "code",
   "execution_count": 2,
   "metadata": {},
   "outputs": [],
   "source": [
    "import matplotlib.pyplot as plt\n",
    "import seaborn as sns\n",
    "import warnings\n",
    "from pylab import rcParams\n",
    "\n",
    "%matplotlib inline\n",
    "np.random.seed(8)\n",
    "warnings.filterwarnings(\"ignore\")\n",
    "rcParams['figure.figsize'] = 10,5\n",
    "rcParams['font.size'] = 15\n",
    "sns.set()"
   ]
  },
  {
   "cell_type": "markdown",
   "metadata": {},
   "source": [
    "# Paired T-test for Equivalence (statsmodels.stats.weightstats.ttost_paired)"
   ]
  },
  {
   "cell_type": "markdown",
   "metadata": {},
   "source": [
    "**Reference:**\n",
    "\n",
    "https://www.statsmodels.org/stable/generated/statsmodels.stats.weightstats.ttost_paired.html\n",
    "\n",
    "statsmodels.stats.weightstats.ttost_paired(x1, x2, low, upp, transform=None, weights=None)\n",
    "\n",
    "test of (non-)equivalence for two dependent, paired sample\n",
    "\n",
    "TOST: two one-sided t tests\n",
    "\n",
    "null hypothesis: md < low or md > upp alternative hypothesis: low < md < upp\n",
    "\n",
    "where md is the mean, expected value of the difference x1 - x2\n",
    "\n",
    "If the pvalue is smaller than a threshold,say 0.05, then we reject the hypothesis that the difference between the two samples is larger than the the thresholds given by low and upp."
   ]
  },
  {
   "cell_type": "code",
   "execution_count": 3,
   "metadata": {},
   "outputs": [],
   "source": [
    "def run_ttost_paired(ctrl,test):\n",
    "    # we use lower/upper bounds as control_mean +/- 1.96 control_std_dev\n",
    "    mean = np.mean(ctrl)\n",
    "    std = np.std(ctrl)\n",
    "    lower = -1.96 * std\n",
    "    upper = +1.96 * std\n",
    "    print(mean, std, lower, upper)\n",
    "    p, t1, t2 = ws.ttost_paired(x1=ctrl, x2=test, low=lower, upp=upper)\n",
    "    if p < 0.05:\n",
    "        msg = '---> Reject null hypothesis: m1 - m2 < low or m1 - m2 > upp. Accept alternative hypothesis: low < m1 - m2 < upp'\n",
    "    else:\n",
    "        msg = '---> No conclusion (cannot reject)'\n",
    "    print('p=%.3f %s' % (p, msg))"
   ]
  },
  {
   "cell_type": "code",
   "execution_count": 4,
   "metadata": {},
   "outputs": [
    {
     "name": "stdout",
     "output_type": "stream",
     "text": [
      "0.1231239714755571 2.3987958602731703 -4.701639886135414 4.701639886135414\n",
      "p=0.001 Reject null hypothesis: m1 - m2 < low or m1 - m2 > upp. Accept alternative hypothesis: low < m1 - m2 < upp\n"
     ]
    },
    {
     "data": {
      "text/plain": [
       "<matplotlib.lines.Line2D at 0x2180be15da0>"
      ]
     },
     "execution_count": 4,
     "metadata": {},
     "output_type": "execute_result"
    },
    {
     "data": {
      "image/png": "[encoded data removed]",
      "text/plain": [
       "<Figure size 432x288 with 1 Axes>"
      ]
     },
     "metadata": {
      "needs_background": "light"
     },
     "output_type": "display_data"
    }
   ],
   "source": [
    "ctrl_std_dev = 2.0\n",
    "n = 30  # for paired the n's need to match\n",
    "\n",
    "ctrl = np.random.normal(0.0, ctrl_std_dev, n)\n",
    "test = np.random.normal(2.7, ctrl_std_dev, n)\n",
    "run_ttost_paired(ctrl, test)\n",
    "\n",
    "plt.figure()\n",
    "ax1 = sns.distplot(color='b', bins=10, kde=True, norm_hist=True, a=ctrl)\n",
    "ax2 = sns.distplot(color='r', bins=10, kde=True, norm_hist=True, a=test)\n",
    "plt.axvline(color='b', linestyle='dashed', linewidth=5, x=np.mean(ctrl))\n",
    "plt.axvline(color='r', linestyle='dashed', linewidth=5, x=np.mean(test))"
   ]
  },
  {
   "cell_type": "markdown",
   "metadata": {},
   "source": [
    "#### Some example results\n",
    "The difference in mean between Control and Test is varied to determine where the test indicates \"reject\".\n",
    "We explore two different values of \"n\" and two different standard deviations.\n",
    "\n",
    "\n",
    "| std dev | n    | no conclusion | reject | reject | no conclusion |\n",
    "| ---     | ---  |  ---:         | :---   | ---:   | :---          |\n",
    "| 1.0     |\n",
    "|         | 3000 | -2.0 | -1.9 | 1.9 | 2.0 |\n",
    "|         | 30   | -1.9 | -1.2 | 1.2 | 1.9 |\n",
    "| 2.0     |\n",
    "|         | 3000 | -3.9 | -3.8 | 3.8 | 3.9 |\n",
    "|         | 30   | -3.7 | -2.7 | 2.7 | 3.7 |\n"
   ]
  },
  {
   "cell_type": "code",
   "execution_count": null,
   "metadata": {},
   "outputs": [],
   "source": []
  }
 ],
 "metadata": {
  "kernelspec": {
   "display_name": "Python 3",
   "language": "python",
   "name": "python3"
  },
  "language_info": {
   "codemirror_mode": {
    "name": "ipython",
    "version": 3
   },
   "file_extension": ".py",
   "mimetype": "text/x-python",
   "name": "python",
   "nbconvert_exporter": "python",
   "pygments_lexer": "ipython3",
   "version": "3.6.8"
  }
 },
 "nbformat": 4,
 "nbformat_minor": 2
}
